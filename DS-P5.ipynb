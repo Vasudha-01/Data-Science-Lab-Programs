{
 "cells": [
  {
   "cell_type": "code",
   "execution_count": null,
   "id": "b3215c55",
   "metadata": {},
   "outputs": [],
   "source": [
    "iris = load_iris()\n",
    "X = iris.data\n",
    "y = iris.target"
   ]
  },
  {
   "cell_type": "code",
   "execution_count": null,
   "id": "19257f7b",
   "metadata": {},
   "outputs": [],
   "source": [
    "X_train, X_test, y_train, y_test = train_test_split(X, y, test_size=0.2, random_state=42)"
   ]
  },
  {
   "cell_type": "code",
   "execution_count": null,
   "id": "7fc3dcee",
   "metadata": {},
   "outputs": [],
   "source": [
    "kernels = ['rbf']\n",
    "gammas = [0.5]\n",
    "Cs = [0.01, 1, 10]\n",
    "best_accuracy = 0\n",
    "best_parameters = None\n",
    "best_support_vectors = None"
   ]
  },
  {
   "cell_type": "code",
   "execution_count": null,
   "id": "1f10e9be",
   "metadata": {},
   "outputs": [],
   "source": [
    "for kernel in kernels:\n",
    "    for gamma in gammas:\n",
    "        for C in Cs:\n",
    "            svm_clf = SVC(kernel=kernel, gamma=gamma, C=C, decision_function_shape='ovr')\n",
    "            svm_clf.fit(X_train, y_train)"
   ]
  },
  {
   "cell_type": "code",
   "execution_count": null,
   "id": "fd8543a0",
   "metadata": {},
   "outputs": [],
   "source": [
    "y_pred = svm_clf.predict(X_test)"
   ]
  },
  {
   "cell_type": "code",
   "execution_count": null,
   "id": "d5d2b3a7",
   "metadata": {},
   "outputs": [],
   "source": [
    "accuracy = accuracy_score(y_test, y_pred)"
   ]
  },
  {
   "cell_type": "code",
   "execution_count": null,
   "id": "4c56527c",
   "metadata": {},
   "outputs": [],
   "source": [
    "total_support_vectors = np.sum(svm_clf.n_support_)"
   ]
  },
  {
   "cell_type": "code",
   "execution_count": null,
   "id": "5970f4ac",
   "metadata": {},
   "outputs": [],
   "source": [
    "print(f\"Kernel: {kernel}, Gamma: {gamma}, C: {C}, Accuracy: {accuracy}, Total Support Vectors: {total_support_vectors}\")"
   ]
  },
  {
   "cell_type": "code",
   "execution_count": null,
   "id": "7a33ee46",
   "metadata": {},
   "outputs": [],
   "source": [
    "if accuracy > best_accuracy:\n",
    "    best_accuracy = accuracy\n",
    "    best_parameters = (kernel, gamma, C)\n",
    "    best_support_vectors = total_support_vectors"
   ]
  },
  {
   "cell_type": "code",
   "execution_count": null,
   "id": "7b702fd8",
   "metadata": {},
   "outputs": [],
   "source": [
    "print(\"\\nBest Classification Accuracy:\", best_accuracy)\n",
    "print(\"Best Hyperparameters:\", best_parameters)\n",
    "print(\"Total Support Vectors for Best Model:\", best_support_vectors)"
   ]
  }
 ],
 "metadata": {
  "kernelspec": {
   "display_name": "Python 3 (ipykernel)",
   "language": "python",
   "name": "python3"
  },
  "language_info": {
   "codemirror_mode": {
    "name": "ipython",
    "version": 3
   },
   "file_extension": ".py",
   "mimetype": "text/x-python",
   "name": "python",
   "nbconvert_exporter": "python",
   "pygments_lexer": "ipython3",
   "version": "3.10.9"
  }
 },
 "nbformat": 4,
 "nbformat_minor": 5
}
