{
 "cells": [
  {
   "cell_type": "code",
   "execution_count": null,
   "id": "1c67f0e0",
   "metadata": {},
   "outputs": [],
   "source": [
    "import numpy as np\n",
    "import matplotlib.pyplot as plt\n",
    "from sklearn.cluster import KMeans, AgglomerativeClustering\n",
    "from sklearn.metrics import adjusted_rand_score"
   ]
  },
  {
   "cell_type": "code",
   "execution_count": null,
   "id": "f7aa4928",
   "metadata": {},
   "outputs": [],
   "source": [
    "data = np.loadtxt(\"spiral.txt\")"
   ]
  },
  {
   "cell_type": "code",
   "execution_count": null,
   "id": "bcc72084",
   "metadata": {},
   "outputs": [],
   "source": [
    "X = data[:, :2]\n",
    "true_labels = data[:, 2]"
   ]
  },
  {
   "cell_type": "code",
   "execution_count": null,
   "id": "e77dfe21",
   "metadata": {},
   "outputs": [],
   "source": [
    "plt.figure(figsize=(8, 6))\n",
    "plt.scatter(X[:, 0], X[:, 1], c=true_labels, cmap='viridis', s=50, alpha=0.8)\n",
    "plt.title(\"True Clusters\")\n",
    "plt.xlabel(\"X1\")\n",
    "plt.ylabel(\"X2\")\n",
    "plt.show()"
   ]
  },
  {
   "cell_type": "code",
   "execution_count": null,
   "id": "1117d349",
   "metadata": {},
   "outputs": [],
   "source": [
    "kmeans = KMeans(n_clusters=3, random_state=42)\n",
    "kmeans_pred = kmeans.fit_predict(X)\n",
    "kmeans_rand_index = adjusted_rand_score(true_labels, kmeans_pred)\n",
    "print(\"Rand Index for K-means:\", kmeans_rand_index)"
   ]
  },
  {
   "cell_type": "code",
   "execution_count": null,
   "id": "a84cfd5e",
   "metadata": {},
   "outputs": [],
   "source": [
    "single_link = AgglomerativeClustering(n_clusters=3, linkage='single')\n",
    "single_link_pred = single_link.fit_predict(X)\n",
    "single_link_rand_index = adjusted_rand_score(true_labels, single_link_pred)\n",
    "print(\"Rand Index for Single-link Hierarchical Clustering:\", single_link_rand_index)"
   ]
  },
  {
   "cell_type": "code",
   "execution_count": null,
   "id": "66531d6e",
   "metadata": {},
   "outputs": [],
   "source": [
    "complete_link = AgglomerativeClustering(n_clusters=3, linkage='complete')\n",
    "complete_link_pred = complete_link.fit_predict(X)\n",
    "complete_link_rand_index = adjusted_rand_score(true_labels, complete_link_pred)\n",
    "print(\"Rand Index for Complete-link Hierarchical Clustering:\", complete_link_rand_index)"
   ]
  },
  {
   "cell_type": "code",
   "execution_count": null,
   "id": "c5ff7869",
   "metadata": {},
   "outputs": [],
   "source": [
    "plt.figure(figsize=(15, 5))\n",
    "plt.subplot(1, 3, 1)\n",
    "plt.scatter(X[:, 0], X[:, 1], c=kmeans_pred, cmap='viridis', s=50, alpha=0.8)\n",
    "plt.title(\"K-means Clustering\")\n",
    "plt.xlabel(\"X1\")\n",
    "plt.ylabel(\"X2\")\n",
    "plt.subplot(1, 3, 2)\n",
    "plt.scatter(X[:, 0], X[:, 1], c=single_link_pred, cmap='viridis', s=50, alpha=0.8)\n",
    "plt.title(\"Single-link Hierarchical Clustering\")\n",
    "plt.xlabel(\"X1\")\n",
    "plt.ylabel(\"X2\")\n",
    "plt.subplot(1, 3, 3)\n",
    "plt.scatter(X[:, 0], X[:, 1], c=complete_link_pred, cmap='viridis', s=50, alpha=0.8)\n",
    "plt.title(\"Complete-link Hierarchical Clustering\")\n",
    "plt.xlabel(\"X1\")\n",
    "plt.ylabel(\"X2\")\n",
    "plt.show()"
   ]
  },
  {
   "cell_type": "code",
   "execution_count": null,
   "id": "0ae24684",
   "metadata": {},
   "outputs": [],
   "source": []
  }
 ],
 "metadata": {
  "kernelspec": {
   "display_name": "Python 3 (ipykernel)",
   "language": "python",
   "name": "python3"
  },
  "language_info": {
   "codemirror_mode": {
    "name": "ipython",
    "version": 3
   },
   "file_extension": ".py",
   "mimetype": "text/x-python",
   "name": "python",
   "nbconvert_exporter": "python",
   "pygments_lexer": "ipython3",
   "version": "3.10.9"
  }
 },
 "nbformat": 4,
 "nbformat_minor": 5
}
