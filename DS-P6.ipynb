{
 "cells": [
  {
   "cell_type": "code",
   "execution_count": null,
   "id": "3aa78459",
   "metadata": {},
   "outputs": [],
   "source": [
    "data = [\n",
    " ['Low', 'Low', 2, 'No', 'Yes'],\n",
    " ['Low', 'Med', 4, 'Yes', 'Yes'],\n",
    " ['Low', 'Low', 4, 'No', 'Yes'],\n",
    " ['Low', 'Med', 4, 'No', 'No'],\n",
    " ['Low', 'High', 4, 'No', 'No'],\n",
    " ['Med', 'Med', 4, 'No', 'No'],\n",
    " ['Med', 'Med', 4, 'Yes', 'Yes'],\n",
    " ['Med', 'High', 2, 'Yes', 'No'],\n",
    " ['Med', 'High', 5, 'No', 'Yes'],\n",
    " ['High', 'Med', 4, 'Yes', 'Yes'],\n",
    " ['High', 'Med', 2, 'Yes', 'Yes'],\n",
    " ['High', 'High', 2, 'Yes', 'No'],\n",
    " ['High', 'High', 5, 'Yes', 'Yes']\n",
    "]"
   ]
  },
  {
   "cell_type": "code",
   "execution_count": null,
   "id": "fd95e493",
   "metadata": {},
   "outputs": [],
   "source": [
    "import pandas as pd\n",
    "df = pd.DataFrame(data, columns=['Price', 'Maintenance', 'Capacity', 'Airbag', 'Profitable'])"
   ]
  },
  {
   "cell_type": "code",
   "execution_count": null,
   "id": "ee46c6fe",
   "metadata": {},
   "outputs": [],
   "source": [
    "label_encoders = {}\n",
    "for column in ['Price', 'Maintenance', 'Airbag', 'Profitable']:\n",
    "    le = LabelEncoder()\n",
    "    df[column] = le.fit_transform(df[column])\n",
    "    label_encoders[column] = le\n"
   ]
  },
  {
   "cell_type": "code",
   "execution_count": null,
   "id": "06aeb1bd",
   "metadata": {},
   "outputs": [],
   "source": [
    "X = df.drop(columns=['Profitable'])\n",
    "y = df['Profitable']\n",
    "X_train, X_test, y_train, y_test = train_test_split(X, y, test_size=0.2, random_state=42)"
   ]
  },
  {
   "cell_type": "code",
   "execution_count": null,
   "id": "cfd657fb",
   "metadata": {},
   "outputs": [],
   "source": [
    "clf = DecisionTreeClassifier(criterion='entropy') \n",
    "clf.fit(X_train, y_train)"
   ]
  },
  {
   "cell_type": "code",
   "execution_count": null,
   "id": "d6e7d522",
   "metadata": {},
   "outputs": [],
   "source": [
    "y_pred = clf.predict(X_test)"
   ]
  },
  {
   "cell_type": "code",
   "execution_count": null,
   "id": "ea349e05",
   "metadata": {},
   "outputs": [],
   "source": [
    "accuracy = accuracy_score(y_test, y_pred)\n",
    "print(\"Accuracy:\", accuracy)"
   ]
  }
 ],
 "metadata": {
  "kernelspec": {
   "display_name": "Python 3 (ipykernel)",
   "language": "python",
   "name": "python3"
  },
  "language_info": {
   "codemirror_mode": {
    "name": "ipython",
    "version": 3
   },
   "file_extension": ".py",
   "mimetype": "text/x-python",
   "name": "python",
   "nbconvert_exporter": "python",
   "pygments_lexer": "ipython3",
   "version": "3.10.9"
  }
 },
 "nbformat": 4,
 "nbformat_minor": 5
}
