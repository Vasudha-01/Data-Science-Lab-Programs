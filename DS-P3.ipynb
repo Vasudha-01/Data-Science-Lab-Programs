{
 "cells": [
  {
   "cell_type": "code",
   "execution_count": null,
   "id": "c674384a",
   "metadata": {},
   "outputs": [],
   "source": [
    "import pandas as pd\n",
    "import numpy as np"
   ]
  },
  {
   "cell_type": "code",
   "execution_count": null,
   "id": "6e93e0eb",
   "metadata": {},
   "outputs": [],
   "source": [
    "books_df = pd.read_csv(\"BL-Flickr-Images-Book.csv\")\n",
    "print(\"Original DataFrame:\")\n",
    "print(books_df.head())"
   ]
  },
  {
   "cell_type": "code",
   "execution_count": null,
   "id": "824dd891",
   "metadata": {},
   "outputs": [],
   "source": [
    "irrelevant_columns = ['Edition Statement', 'Corporate Author', 'Corporate Contributors', 'Former owner',\n",
    "'Engraver', 'Contributors', 'Issuance type', 'Shelfmarks']\n",
    "books_df.drop(columns=irrelevant_columns, inplace=True)"
   ]
  },
  {
   "cell_type": "code",
   "execution_count": null,
   "id": "0fbdb8df",
   "metadata": {},
   "outputs": [],
   "source": [
    "books_df.set_index('Identifier', inplace=True)\n",
    "books_df['Date of Publication'] = books_df['Date of Publication'].str.extract(r'^(\\d{4})', expand=False)\n",
    "books_df['Date of Publication'] = pd.to_numeric(books_df['Date of Publication'], errors='coerce')"
   ]
  },
  {
   "cell_type": "code",
   "execution_count": null,
   "id": "50dcdb21",
   "metadata": {},
   "outputs": [],
   "source": [
    "print(\"\\nCleaned DataFrame:\")\n",
    "print(books_df.head())"
   ]
  }
 ],
 "metadata": {
  "kernelspec": {
   "display_name": "Python 3 (ipykernel)",
   "language": "python",
   "name": "python3"
  },
  "language_info": {
   "codemirror_mode": {
    "name": "ipython",
    "version": 3
   },
   "file_extension": ".py",
   "mimetype": "text/x-python",
   "name": "python",
   "nbconvert_exporter": "python",
   "pygments_lexer": "ipython3",
   "version": "3.10.9"
  }
 },
 "nbformat": 4,
 "nbformat_minor": 5
}
